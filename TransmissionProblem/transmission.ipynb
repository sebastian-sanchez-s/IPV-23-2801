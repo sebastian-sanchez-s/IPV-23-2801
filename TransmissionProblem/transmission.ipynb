{
 "cells": [
  {
   "cell_type": "markdown",
   "id": "6bcdcfa5-21c8-4b54-a454-4f7a98489a33",
   "metadata": {},
   "source": [
    "## <center> Bempp Performance Against Analytical Solutions:<br> Transmission Problem\n",
    "\n"
   ]
  },
  {
   "cell_type": "markdown",
   "id": "8cf4dd37-532e-4a4c-be4d-f67e1d02b169",
   "metadata": {},
   "source": [
    "#### Transmission Problem"
   ]
  },
  {
   "cell_type": "markdown",
   "id": "7a889407-a2bc-4e3b-9a8c-376e1c498db6",
   "metadata": {
    "tags": []
   },
   "source": [
    "Consider a region $\\Omega^{+} \\in \\mathbb{R}^3$, let $\\Gamma$ be its boundary and $\\Omega^{-}$ be the exterior. The transmission problem (TP) for the Helmholtz scalar acoustic equation is given by\n",
    "$$\n",
    "\\begin{aligned}\n",
    "    \\nabla^2 u^t + (\\kappa^{\\pm})^2 u^t &= 0 &&,\\text{ in } \\Omega^{\\pm}\\\\\n",
    "    u^{+} &= u^{-} &&,\\text{ in } \\Gamma\\\\\n",
    "    \\frac{1}{\\rho^{+}} \\partial_{\\nu} u^{+} &= \\frac{1}{\\rho^{-}} \\partial_{\\nu} u^{-} &&, \\text{ in } \\Gamma\n",
    "\\end{aligned}\n",
    "$$\n",
    "where $\\kappa^{\\pm}$ and $\\rho^{\\pm}$ are the wave number and material density in $\\Omega^{\\pm}$ respectively. $u_t$ is the total wave in $\\mathbb{R}^3$ and $u^{\\pm}$ denote the wave in the exterior and interior domains respectively. Furthermore, $\\partial_{\\nu}$ is the normal derivative operator."
   ]
  },
  {
   "cell_type": "markdown",
   "id": "355952e8-1b2b-4c97-b914-a10c8c1ac633",
   "metadata": {},
   "source": [
    "In this notebook, we consider the (TP) for $\\Omega^{-}$ the sphere of radius $1$ and a plane wave traveling along the $+z$ axis."
   ]
  },
  {
   "cell_type": "markdown",
   "id": "9eb825ab-52ed-4751-9604-9c010c668c5a",
   "metadata": {},
   "source": [
    "#### Analytical Solution"
   ]
  },
  {
   "cell_type": "markdown",
   "id": "80ff355b-8501-4972-8bbe-ed02960c7cb7",
   "metadata": {},
   "source": [
    "We consider the incident wave $u^i(x,y,z) = e^{\\textrm{i} \\kappa_{+} z}$ valid in the exterior domain. Furthermore, in the exterior domain the exterior wave is decomposed as $u^{+} = u^i + u^s$, where $u^s$ is the scattered wave satisfying the sommerfeld radiation condition and is given in spherical coordinates by\n",
    "$$\n",
    "    u^s(r,\\theta,\\varphi) = \\sum_{n=0}^{\\infty} a_n h^{(2)}_{n}(\\kappa_{+} r) P_n(\\cos\\theta)\n",
    "$$\n",
    "where $h^{(2)}_n$ is the spherical Hankel function of second kind and $P_n$ is the Legrende polynomial. The coefficient $a_n$ for each $n$ is given by\n",
    "$$\n",
    "    a_{n}\n",
    "    =\n",
    "    \\frac\n",
    "    {%\n",
    "        (2n+1) \\textrm{i}^n\n",
    "        \\left[\n",
    "            j_n(\\kappa^{+} R)\n",
    "            j'_{n}(\\kappa^{-} R)\n",
    "            -\n",
    "            \\rho \\kappa\n",
    "            j_{n}(\\kappa^{-} R)\n",
    "            j'_{n}(\\kappa^{+} R)\n",
    "        \\right]\n",
    "    }\n",
    "    {%\n",
    "        \\rho \\kappa\n",
    "        j_{n}(\\kappa^{-} R)\n",
    "        h'^{(2)}_{n}(\\kappa^{+} R)\n",
    "        -\n",
    "        j'_{n}(\\kappa^{-} R)\n",
    "        h^{(2)}_{n}(\\kappa^{+} R)\n",
    "    },\n",
    "$$\n",
    "where $\\rho = \\rho^{-}/\\rho^{+}$ and $\\kappa = \\kappa^{+}/\\kappa^{-}$.\n",
    "\n",
    "On the other hand, the interior wave $u^{-}$ is given by\n",
    "$$\n",
    "    u^{-}(r,\\theta,\\varphi) = \\sum_{n=0}^{\\infty} b_n j_{n}(k^{-} r) P_n(\\cos\\theta)\n",
    "$$\n",
    "where the coefficients are written in terms of the $a_n$ described above\n",
    "$$\n",
    "    b_n = \\frac{(2n + 1) \\textrm{i}^n j_n(k^{+} R) + a_{n} h^{(2)}_{n} (\\kappa^{+} R)}{j_{n}(\\kappa^{-} R)}.\n",
    "$$"
   ]
  },
  {
   "cell_type": "markdown",
   "id": "a2ca07b1-16d2-4c15-8d70-b76cf1388fe0",
   "metadata": {},
   "source": [
    "#### BEM Formulation"
   ]
  },
  {
   "cell_type": "markdown",
   "id": "3f39639a-e976-47ba-8590-caba805ae385",
   "metadata": {},
   "source": [
    "Let $\\gamma^{\\pm}$ be the Cauchy trace operator for the exterior and interior domain respectively, given by:\n",
    "$$\n",
    "    \\gamma^{\\pm} =\n",
    "    \\begin{pmatrix}\n",
    "        \\gamma^{\\pm}_{d} \\\\\n",
    "        \\gamma^{\\pm}_{n}\n",
    "    \\end{pmatrix}.\n",
    "$$\n",
    "The total scattered field for the exterior and interior domain ($u^s,u^r$) can be obtained by first solving the following equation for $\\gamma^{\\pm} u^t$ \n",
    "$$\n",
    "    (A^{+} + P^{-1} A^{-} P) \\gamma^{+} u^{t} = \\gamma^{+} u^{i},\n",
    "$$\n",
    "where $A^{\\pm}$ is the multitrace operator for the exterior and interior domain, and $P$ is the matrix carrying information about the densities. They are defined as:\n",
    "$$\n",
    "    A^{\\pm} = \n",
    "    \\begin{pmatrix}\n",
    "        -K & V \\\\\n",
    "        D & K'\n",
    "    \\end{pmatrix},\n",
    "    \\quad\\quad\n",
    "    P = \n",
    "     \\begin{pmatrix}\n",
    "        1 & 0 \\\\\n",
    "        0 & \\rho^{-}/\\rho^{+}\n",
    "    \\end{pmatrix}.\n",
    "$$\n",
    "Here $K,V,D$ and $K'$ are the double layer, single layer, hypersingular and adjoint double layer integral boundary operators. Then, the scattered pressure fields for the exterior and interior domain are given by\n",
    "$$\n",
    "    u^s = \\mathcal{K}^{+} [\\gamma^{+}_{d} u^t] - \\mathcal{V}^{+} [\\gamma^{+}_{n} u^t] \\\\\n",
    "    u^r = \\mathcal{V}^{-} [\\rho \\gamma^{+}_{n} u^t] - \\mathcal{K}^{-} [\\gamma^{+}_{d} u^t]\n",
    "$$\n",
    "where $\\mathcal{V}^{\\pm}$ and $\\mathcal{K}^{\\pm}$ are the potential boundary operators for the exterior and interior domains."
   ]
  },
  {
   "cell_type": "markdown",
   "id": "bfa1a61c-5cc4-4f03-a9ec-c19c1ab26bb7",
   "metadata": {},
   "source": [
    "### Comparison"
   ]
  },
  {
   "cell_type": "code",
   "execution_count": 1,
   "id": "9abb939a-2594-4cea-88ac-379b4d925725",
   "metadata": {},
   "outputs": [],
   "source": [
    "import os\n",
    "import numpy as np\n",
    "from numpy.linalg import norm\n",
    "import bempp.api\n",
    "import parameters as params\n",
    "\n",
    "def load_analytical(ke,ki,re,ri):\n",
    "    fname_a = params.FNAME_A(ke, ki, 1, 1)\n",
    "    fpath_a = os.path.join(params.PATH_A, fname_a)\n",
    "    \n",
    "    analytical, it_a = np.load(fpath_a, allow_pickle=True)\n",
    "    \n",
    "    return analytical\n",
    "\n",
    "def load_bempp(ke,ki,re,ri,n):\n",
    "    fname_b = params.FNAME_B(ke, ki, 1, 1, n)\n",
    "    fpath_b = os.path.join(params.PATH_B, fname_b)\n",
    "    \n",
    "    bem, it_b = np.load(fpath_b, allow_pickle=True)\n",
    "    \n",
    "    return bem"
   ]
  },
  {
   "cell_type": "code",
   "execution_count": 2,
   "id": "d30610fb-c77b-4e19-81e9-2e79a0b7c89f",
   "metadata": {},
   "outputs": [
    {
     "ename": "ValueError",
     "evalue": "operands could not be broadcast together with shapes (80,80) (40,40) ",
     "output_type": "error",
     "traceback": [
      "\u001b[0;31m---------------------------------------------------------------------------\u001b[0m",
      "\u001b[0;31mValueError\u001b[0m                                Traceback (most recent call last)",
      "Cell \u001b[0;32mIn[2], line 15\u001b[0m\n\u001b[1;32m     12\u001b[0m bem \u001b[38;5;241m=\u001b[39m load_bempp(ke,ki,\u001b[38;5;241m1\u001b[39m,\u001b[38;5;241m1\u001b[39m,n)\n\u001b[1;32m     14\u001b[0m \u001b[38;5;66;03m# Compute error\u001b[39;00m\n\u001b[0;32m---> 15\u001b[0m fro_rel_error[i][j][k] \u001b[38;5;241m=\u001b[39m norm(\u001b[43mbem\u001b[49m\u001b[43m \u001b[49m\u001b[38;5;241;43m-\u001b[39;49m\u001b[43m \u001b[49m\u001b[43manalytical\u001b[49m, \u001b[38;5;124m'\u001b[39m\u001b[38;5;124mfro\u001b[39m\u001b[38;5;124m'\u001b[39m) \u001b[38;5;241m/\u001b[39m norm(analytical, \u001b[38;5;124m'\u001b[39m\u001b[38;5;124mfro\u001b[39m\u001b[38;5;124m'\u001b[39m)\n\u001b[1;32m     16\u001b[0m inf_rel_error[i][j][k] \u001b[38;5;241m=\u001b[39m norm(bem \u001b[38;5;241m-\u001b[39m analytical, np\u001b[38;5;241m.\u001b[39minf) \u001b[38;5;241m/\u001b[39m norm(analytical, np\u001b[38;5;241m.\u001b[39minf)\n",
      "\u001b[0;31mValueError\u001b[0m: operands could not be broadcast together with shapes (80,80) (40,40) "
     ]
    }
   ],
   "source": [
    "shape = (len(params.WAVE_NUMBERS), len(params.WAVE_NUMBERS), len(params.ELEM_WAVELENGTH))\n",
    "\n",
    "fro_rel_error = np.zeros(shape)\n",
    "inf_rel_error = np.zeros(shape)\n",
    "\n",
    "for i, ke in enumerate(params.WAVE_NUMBERS):\n",
    "    for j, ki in enumerate(params.WAVE_NUMBERS):\n",
    "        analytical = load_analytical(ke,ki,1,1)\n",
    "\n",
    "        for k, n in enumerate(params.ELEM_WAVELENGTH):\n",
    "            # BEM \n",
    "            bem = load_bempp(ke,ki,1,1,n)\n",
    "            \n",
    "            # Compute error\n",
    "            fro_rel_error[i][j][k] = norm(bem - analytical, 'fro') / norm(analytical, 'fro')\n",
    "            inf_rel_error[i][j][k] = norm(bem - analytical, np.inf) / norm(analytical, np.inf)"
   ]
  },
  {
   "cell_type": "code",
   "execution_count": null,
   "id": "4eccddae-68c0-48e5-b45f-8f78b3d47ba6",
   "metadata": {},
   "outputs": [],
   "source": [
    "import matplotlib.pyplot as plt\n",
    "\n",
    "%matplotlib inline\n",
    "\n",
    "nrows = len(params.WAVE_NUMBERS)\n",
    "ncols = 2\n",
    "\n",
    "axs = (plt.figure(figsize=(10 * ncols,10 * nrows)).subplots(nrows=nrows, ncols=ncols))\n",
    "\n",
    "plt_info = [\n",
    "    ((axs[i][0], f\"Exterior Wavenumber {ke} - L2 Error\", fro_rel_error[i,:,:]),\n",
    "    (axs[i][1], f\"Exterior Wavenumber {ke} - Inf Error\", inf_rel_error[i,:,:]))\n",
    "    for i,ke in enumerate(params.WAVE_NUMBERS)\n",
    "]\n",
    "\n",
    "for each_plot in plt_info:\n",
    "    #\n",
    "    # ¡BE CAREFUL! Each row has its own error bar\n",
    "    #\n",
    "    vmin = np.amin((each_plot[0][2], each_plot[1][2]))\n",
    "    vmax = np.amax((each_plot[0][2], each_plot[1][2]))\n",
    "    for (ax, title, data) in each_plot:\n",
    "        ax.set_title(title)\n",
    "        \n",
    "        # Plot data\n",
    "        im = ax.imshow(data, cmap='Reds', aspect='auto', vmin=vmin, vmax=vmax)\n",
    "        \n",
    "        # Colorbar\n",
    "        cbar = ax.figure.colorbar(im, ax=ax)\n",
    "        cbar.ax.set_ylabel('Relative error', rotation=-90, va=\"bottom\")\n",
    "\n",
    "        # Set labels\n",
    "        ax.set_xlabel('Elements Per Wavelength')\n",
    "        ax.set_ylabel('Interior Wave Number')\n",
    "        ax.set_xticks(np.arange(data.shape[1]), labels=params.ELEM_WAVELENGTH)\n",
    "        ax.set_yticks(np.arange(data.shape[0]), labels=params.WAVE_NUMBERS)\n",
    "        \n",
    "        ax.tick_params(top=True, bottom=False, labeltop=True, labelbottom=False)\n",
    "  \n",
    "        # Value in each cell\n",
    "        for (i,j), value in np.ndenumerate(data):\n",
    "            ax.text(j-.1, i+.1, f'{value:0.2f}', color = 'black' if value < vmax/2 else 'white')"
   ]
  },
  {
   "cell_type": "markdown",
   "id": "f17a58c6-c2fc-497c-ab9e-036f4bfed011",
   "metadata": {},
   "source": [
    "We can visualize specific cases. Select a pair of wave numbers to inspect an run the cells below."
   ]
  },
  {
   "cell_type": "code",
   "execution_count": null,
   "id": "74b790fd-4ded-4837-8476-26471c225da3",
   "metadata": {},
   "outputs": [],
   "source": [
    "ke, ki = 16, 4"
   ]
  },
  {
   "cell_type": "markdown",
   "id": "9fa6403e-e6b1-4991-8fc9-23cedda08234",
   "metadata": {},
   "source": [
    "Now we visualize the results side to side."
   ]
  },
  {
   "cell_type": "code",
   "execution_count": null,
   "id": "9d9411d4-1ef7-45db-b6a1-13cea3f01955",
   "metadata": {},
   "outputs": [],
   "source": [
    "ncols = 2\n",
    "nrows = len(params.ELEM_WAVELENGTH)\n",
    "\n",
    "axs = (plt.figure(figsize=(10 * ncols, 10 * nrows)).subplots(nrows=nrows, ncols=2))\n",
    "\n",
    "plt_info = [\n",
    "    (\n",
    "        (axs[i][0], f\"Analytical\", load_analytical(ke,ki,1,1)),\n",
    "        (axs[i][1], f\"BEMPP (EPW~{n})\", load_bempp(ke,ki,1,1,n))\n",
    "    )\n",
    "    for i, n in enumerate(params.ELEM_WAVELENGTH)\n",
    "]\n",
    "\n",
    "\n",
    "for each_row in plt_info:\n",
    "    for (ax, title, data) in each_row:\n",
    "        ax.set_title(title)\n",
    "        ax.set_xlabel('z-axis', size='14')\n",
    "        ax.set_ylabel('x-axis', size='14')\n",
    "        im = ax.imshow(data,\n",
    "                       extent=[params.DMIN, params.DMAX, params.DMIN, params.DMAX],\n",
    "                       vmin=-2, vmax=2,\n",
    "                       cmap='bwr')\n",
    "        ax.figure.colorbar(im, ax=ax)"
   ]
  },
  {
   "cell_type": "code",
   "execution_count": null,
   "id": "bc35c65e-1167-47ec-88d2-16c0b731ecef",
   "metadata": {},
   "outputs": [],
   "source": []
  }
 ],
 "metadata": {
  "kernelspec": {
   "display_name": "Python 3 (ipykernel)",
   "language": "python",
   "name": "python3"
  },
  "language_info": {
   "codemirror_mode": {
    "name": "ipython",
    "version": 3
   },
   "file_extension": ".py",
   "mimetype": "text/x-python",
   "name": "python",
   "nbconvert_exporter": "python",
   "pygments_lexer": "ipython3",
   "version": "3.8.16"
  }
 },
 "nbformat": 4,
 "nbformat_minor": 5
}
